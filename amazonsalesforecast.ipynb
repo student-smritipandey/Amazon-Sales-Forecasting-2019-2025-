{
 "cells": [
  {
   "cell_type": "code",
   "execution_count": 2,
   "id": "d7318912-f37f-44f4-a14e-f07c811876a6",
   "metadata": {},
   "outputs": [
    {
     "name": "stdout",
     "output_type": "stream",
     "text": [
      "Defaulting to user installation because normal site-packages is not writeable\n",
      "Collecting prophet\n",
      "  Using cached prophet-1.1.7-py3-none-win_amd64.whl.metadata (3.6 kB)\n",
      "Collecting cmdstanpy>=1.0.4 (from prophet)\n",
      "  Using cached cmdstanpy-1.2.5-py3-none-any.whl.metadata (4.0 kB)\n",
      "Requirement already satisfied: numpy>=1.15.4 in c:\\programdata\\anaconda3\\lib\\site-packages (from prophet) (1.26.4)\n",
      "Requirement already satisfied: matplotlib>=2.0.0 in c:\\programdata\\anaconda3\\lib\\site-packages (from prophet) (3.9.2)\n",
      "Requirement already satisfied: pandas>=1.0.4 in c:\\programdata\\anaconda3\\lib\\site-packages (from prophet) (2.2.2)\n",
      "Collecting holidays<1,>=0.25 (from prophet)\n",
      "  Using cached holidays-0.78-py3-none-any.whl.metadata (46 kB)\n",
      "Requirement already satisfied: tqdm>=4.36.1 in c:\\programdata\\anaconda3\\lib\\site-packages (from prophet) (4.66.5)\n",
      "Collecting importlib_resources (from prophet)\n",
      "  Using cached importlib_resources-6.5.2-py3-none-any.whl.metadata (3.9 kB)\n",
      "Collecting stanio<2.0.0,>=0.4.0 (from cmdstanpy>=1.0.4->prophet)\n",
      "  Using cached stanio-0.5.1-py3-none-any.whl.metadata (1.6 kB)\n",
      "Requirement already satisfied: python-dateutil in c:\\programdata\\anaconda3\\lib\\site-packages (from holidays<1,>=0.25->prophet) (2.9.0.post0)\n",
      "Requirement already satisfied: contourpy>=1.0.1 in c:\\programdata\\anaconda3\\lib\\site-packages (from matplotlib>=2.0.0->prophet) (1.2.0)\n",
      "Requirement already satisfied: cycler>=0.10 in c:\\programdata\\anaconda3\\lib\\site-packages (from matplotlib>=2.0.0->prophet) (0.11.0)\n",
      "Requirement already satisfied: fonttools>=4.22.0 in c:\\programdata\\anaconda3\\lib\\site-packages (from matplotlib>=2.0.0->prophet) (4.51.0)\n",
      "Requirement already satisfied: kiwisolver>=1.3.1 in c:\\programdata\\anaconda3\\lib\\site-packages (from matplotlib>=2.0.0->prophet) (1.4.4)\n",
      "Requirement already satisfied: packaging>=20.0 in c:\\programdata\\anaconda3\\lib\\site-packages (from matplotlib>=2.0.0->prophet) (24.1)\n",
      "Requirement already satisfied: pillow>=8 in c:\\programdata\\anaconda3\\lib\\site-packages (from matplotlib>=2.0.0->prophet) (10.4.0)\n",
      "Requirement already satisfied: pyparsing>=2.3.1 in c:\\programdata\\anaconda3\\lib\\site-packages (from matplotlib>=2.0.0->prophet) (3.1.2)\n",
      "Requirement already satisfied: pytz>=2020.1 in c:\\programdata\\anaconda3\\lib\\site-packages (from pandas>=1.0.4->prophet) (2024.1)\n",
      "Requirement already satisfied: tzdata>=2022.7 in c:\\programdata\\anaconda3\\lib\\site-packages (from pandas>=1.0.4->prophet) (2023.3)\n",
      "Requirement already satisfied: colorama in c:\\programdata\\anaconda3\\lib\\site-packages (from tqdm>=4.36.1->prophet) (0.4.6)\n",
      "Requirement already satisfied: six>=1.5 in c:\\programdata\\anaconda3\\lib\\site-packages (from python-dateutil->holidays<1,>=0.25->prophet) (1.16.0)\n",
      "Using cached prophet-1.1.7-py3-none-win_amd64.whl (13.3 MB)\n",
      "Using cached cmdstanpy-1.2.5-py3-none-any.whl (94 kB)\n",
      "Using cached holidays-0.78-py3-none-any.whl (1.2 MB)\n",
      "Using cached importlib_resources-6.5.2-py3-none-any.whl (37 kB)\n",
      "Using cached stanio-0.5.1-py3-none-any.whl (8.1 kB)\n",
      "Installing collected packages: stanio, importlib_resources, holidays, cmdstanpy, prophet\n",
      "Successfully installed cmdstanpy-1.2.5 holidays-0.78 importlib_resources-6.5.2 prophet-1.1.7 stanio-0.5.1\n"
     ]
    },
    {
     "name": "stderr",
     "output_type": "stream",
     "text": [
      "  WARNING: The scripts install_cmdstan.exe and install_cxx_toolchain.exe are installed in 'C:\\Users\\fastf\\AppData\\Roaming\\Python\\Python312\\Scripts' which is not on PATH.\n",
      "  Consider adding this directory to PATH or, if you prefer to suppress this warning, use --no-warn-script-location.\n"
     ]
    }
   ],
   "source": [
    "!pip install prophet\n"
   ]
  },
  {
   "cell_type": "code",
   "execution_count": 8,
   "id": "4c79763f-290c-4253-ba00-03eaba059917",
   "metadata": {},
   "outputs": [],
   "source": [
    "import pandas as pd\n",
    "from prophet import Prophet"
   ]
  },
  {
   "cell_type": "code",
   "execution_count": 11,
   "id": "e5640778-d494-4325-9d45-fdf4c63ef05f",
   "metadata": {},
   "outputs": [
    {
     "name": "stdout",
     "output_type": "stream",
     "text": [
      "   Row ID        Order ID Order Date  Ship Date       Ship Mode Customer ID  \\\n",
      "0    4918  CA-2019-160304 2019-01-01 2019-01-07  Standard Class    BM-11575   \n",
      "1    4919  CA-2019-160304 2019-01-02 2019-01-07  Standard Class    LR-16915   \n",
      "2    4920  CA-2019-160304 2019-01-02 2019-01-07  Standard Class    CA-12310   \n",
      "3    3074  CA-2019-125206 2019-01-03 2019-01-05     First Class    BO-11350   \n",
      "4    8604  US-2019-116365 2019-01-03 2019-01-08  Standard Class    EB-13975   \n",
      "\n",
      "       Customer Name    Segment        Country          City  ...   Region  \\\n",
      "0      Brendan Murry  Corporate  United States  Gaithersburg  ...     East   \n",
      "1       Lena Radford  Corporate  United States  Gaithersburg  ...     East   \n",
      "2  Christine Abelman  Corporate  United States  Gaithersburg  ...     East   \n",
      "3      Bill Overfelt   Consumer  United States   Los Angeles  ...     West   \n",
      "4         Erica Bern  Corporate  United States   San Antonio  ...  Central   \n",
      "\n",
      "        Product ID         Category Sub-Category  \\\n",
      "0  FUR-BO-10004709        Furniture    Bookcases   \n",
      "1  FUR-BO-10004709        Furniture    Bookcases   \n",
      "2  TEC-PH-10000455       Technology       Phones   \n",
      "3  OFF-ST-10003692  Office Supplies      Storage   \n",
      "4  TEC-AC-10002217       Technology  Accessories   \n",
      "\n",
      "                                        Product Name   Sales  Quantity  \\\n",
      "0  Bush Westfield Collection Bookcases, Medium Ch...   73.94         1   \n",
      "1  Bush Westfield Collection Bookcases, Medium Ch...  173.94         3   \n",
      "2                                        GE 30522EE2  231.98         2   \n",
      "3  Recycled Steel Personal File for Hanging File ...  114.46         2   \n",
      "4             ImationÂ Clip USBÂ flash driveÂ - 8 GB   30.08         2   \n",
      "\n",
      "    Profit  Returns  Payment Mode  \n",
      "0  28.2668        0        Online  \n",
      "1  38.2668        0        Online  \n",
      "2  67.2742        0         Cards  \n",
      "3  28.6150        0        Online  \n",
      "4  -5.2640        0        Online  \n",
      "\n",
      "[5 rows x 21 columns]\n",
      "Index(['Row ID', 'Order ID', 'Order Date', 'Ship Date', 'Ship Mode',\n",
      "       'Customer ID', 'Customer Name', 'Segment', 'Country', 'City', 'State',\n",
      "       'Region', 'Product ID', 'Category', 'Sub-Category', 'Product Name',\n",
      "       'Sales', 'Quantity', 'Profit', 'Returns', 'Payment Mode'],\n",
      "      dtype='object')\n"
     ]
    }
   ],
   "source": [
    "df = pd.read_excel(r\"C:\\Users\\fastf\\Desktop\\Amazon Store Sales  Cleaned Data.xlsx\")\n",
    "print(df.head())\n",
    "print(df.columns)\n",
    "\n"
   ]
  },
  {
   "cell_type": "code",
   "execution_count": 12,
   "id": "c45eda3d-5ea5-4e8b-b1d8-2eae06182e16",
   "metadata": {},
   "outputs": [],
   "source": [
    "df['Order Date'] = pd.to_datetime(df['Order Date'])\n",
    "\n"
   ]
  },
  {
   "cell_type": "code",
   "execution_count": 14,
   "id": "04db7b77-1a8a-40d6-b57a-02465798f083",
   "metadata": {},
   "outputs": [],
   "source": [
    "df_monthly = df.groupby(pd.Grouper(key='Order Date', freq='ME'))['Sales'].sum().reset_index()\n",
    "\n"
   ]
  },
  {
   "cell_type": "code",
   "execution_count": 15,
   "id": "ddddc7fc-6d31-4b5e-b269-ed324591180c",
   "metadata": {},
   "outputs": [],
   "source": [
    "df_monthly = df_monthly.rename(columns={'Order Date': 'ds', 'Sales': 'y'})\n"
   ]
  },
  {
   "cell_type": "code",
   "execution_count": 16,
   "id": "4adf254c-1014-4b06-81fa-7f24f8188b8c",
   "metadata": {},
   "outputs": [
    {
     "name": "stderr",
     "output_type": "stream",
     "text": [
      "16:45:47 - cmdstanpy - INFO - Chain [1] start processing\n",
      "16:45:47 - cmdstanpy - INFO - Chain [1] done processing\n"
     ]
    },
    {
     "data": {
      "text/plain": [
       "<prophet.forecaster.Prophet at 0x233ca5ae450>"
      ]
     },
     "execution_count": 16,
     "metadata": {},
     "output_type": "execute_result"
    }
   ],
   "source": [
    "model = Prophet(yearly_seasonality=True, daily_seasonality=False)\n",
    "model.fit(df_monthly)\n"
   ]
  },
  {
   "cell_type": "code",
   "execution_count": 18,
   "id": "c21ded48-c7af-4a79-8fec-bd9f304daa6c",
   "metadata": {},
   "outputs": [],
   "source": [
    "future = model.make_future_dataframe(periods=60, freq='ME')\n"
   ]
  },
  {
   "cell_type": "code",
   "execution_count": 19,
   "id": "09638fba-4ca2-4f64-9752-51c43e3a1b65",
   "metadata": {},
   "outputs": [],
   "source": [
    "forecast = model.predict(future)\n"
   ]
  },
  {
   "cell_type": "code",
   "execution_count": 20,
   "id": "eca8e1aa-b10c-42e6-97c5-768145d4d406",
   "metadata": {},
   "outputs": [],
   "source": [
    "forecast[['ds', 'yhat', 'yhat_lower', 'yhat_upper']].to_csv(\"amazon_sales_forecast.csv\", index=False)\n"
   ]
  },
  {
   "cell_type": "code",
   "execution_count": 21,
   "id": "f7181f2f-34c5-40e0-aaa3-7e66e56f0489",
   "metadata": {},
   "outputs": [
    {
     "name": "stdout",
     "output_type": "stream",
     "text": [
      "C:\\Users\\fastf\n"
     ]
    }
   ],
   "source": [
    "import os\n",
    "print(os.getcwd())\n"
   ]
  },
  {
   "cell_type": "code",
   "execution_count": null,
   "id": "ef1aa96a-e1e3-4558-bcfb-1930a3d9898b",
   "metadata": {},
   "outputs": [],
   "source": []
  }
 ],
 "metadata": {
  "kernelspec": {
   "display_name": "Python 3 (ipykernel)",
   "language": "python",
   "name": "python3"
  },
  "language_info": {
   "codemirror_mode": {
    "name": "ipython",
    "version": 3
   },
   "file_extension": ".py",
   "mimetype": "text/x-python",
   "name": "python",
   "nbconvert_exporter": "python",
   "pygments_lexer": "ipython3",
   "version": "3.12.7"
  }
 },
 "nbformat": 4,
 "nbformat_minor": 5
}
